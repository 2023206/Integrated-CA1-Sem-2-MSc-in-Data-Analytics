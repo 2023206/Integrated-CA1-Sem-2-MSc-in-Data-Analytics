{
 "cells": [
  {
   "cell_type": "code",
   "execution_count": 1,
   "id": "c6d21c44",
   "metadata": {},
   "outputs": [],
   "source": [
    "import pandas as pd"
   ]
  },
  {
   "cell_type": "code",
   "execution_count": 2,
   "id": "af98c193",
   "metadata": {},
   "outputs": [],
   "source": [
    "df_weather = pd.read_csv(\"weather.csv\")"
   ]
  },
  {
   "cell_type": "code",
   "execution_count": 3,
   "id": "fefb67a6",
   "metadata": {},
   "outputs": [
    {
     "data": {
      "text/plain": [
       "(16743, 14)"
      ]
     },
     "execution_count": 3,
     "metadata": {},
     "output_type": "execute_result"
    }
   ],
   "source": [
    "df_weather.shape"
   ]
  },
  {
   "cell_type": "code",
   "execution_count": 4,
   "id": "920a8b0d",
   "metadata": {},
   "outputs": [
    {
     "data": {
      "text/html": [
       "<div>\n",
       "<style scoped>\n",
       "    .dataframe tbody tr th:only-of-type {\n",
       "        vertical-align: middle;\n",
       "    }\n",
       "\n",
       "    .dataframe tbody tr th {\n",
       "        vertical-align: top;\n",
       "    }\n",
       "\n",
       "    .dataframe thead th {\n",
       "        text-align: right;\n",
       "    }\n",
       "</style>\n",
       "<table border=\"1\" class=\"dataframe\">\n",
       "  <thead>\n",
       "    <tr style=\"text-align: right;\">\n",
       "      <th></th>\n",
       "      <th>Data.Precipitation</th>\n",
       "      <th>Date.Full</th>\n",
       "      <th>Date.Month</th>\n",
       "      <th>Date.Week of</th>\n",
       "      <th>Date.Year</th>\n",
       "      <th>Station.City</th>\n",
       "      <th>Station.Code</th>\n",
       "      <th>Station.Location</th>\n",
       "      <th>Station.State</th>\n",
       "      <th>Data.Temperature.Avg Temp</th>\n",
       "      <th>Data.Temperature.Max Temp</th>\n",
       "      <th>Data.Temperature.Min Temp</th>\n",
       "      <th>Data.Wind.Direction</th>\n",
       "      <th>Data.Wind.Speed</th>\n",
       "    </tr>\n",
       "  </thead>\n",
       "  <tbody>\n",
       "    <tr>\n",
       "      <th>0</th>\n",
       "      <td>0.00</td>\n",
       "      <td>2016-01-03</td>\n",
       "      <td>1</td>\n",
       "      <td>3</td>\n",
       "      <td>2016</td>\n",
       "      <td>Birmingham</td>\n",
       "      <td>BHM</td>\n",
       "      <td>Birmingham, AL</td>\n",
       "      <td>Alabama</td>\n",
       "      <td>39</td>\n",
       "      <td>46</td>\n",
       "      <td>32</td>\n",
       "      <td>33</td>\n",
       "      <td>4.33</td>\n",
       "    </tr>\n",
       "    <tr>\n",
       "      <th>1</th>\n",
       "      <td>0.00</td>\n",
       "      <td>2016-01-03</td>\n",
       "      <td>1</td>\n",
       "      <td>3</td>\n",
       "      <td>2016</td>\n",
       "      <td>Huntsville</td>\n",
       "      <td>HSV</td>\n",
       "      <td>Huntsville, AL</td>\n",
       "      <td>Alabama</td>\n",
       "      <td>39</td>\n",
       "      <td>47</td>\n",
       "      <td>31</td>\n",
       "      <td>32</td>\n",
       "      <td>3.86</td>\n",
       "    </tr>\n",
       "    <tr>\n",
       "      <th>2</th>\n",
       "      <td>0.16</td>\n",
       "      <td>2016-01-03</td>\n",
       "      <td>1</td>\n",
       "      <td>3</td>\n",
       "      <td>2016</td>\n",
       "      <td>Mobile</td>\n",
       "      <td>MOB</td>\n",
       "      <td>Mobile, AL</td>\n",
       "      <td>Alabama</td>\n",
       "      <td>46</td>\n",
       "      <td>51</td>\n",
       "      <td>41</td>\n",
       "      <td>35</td>\n",
       "      <td>9.73</td>\n",
       "    </tr>\n",
       "    <tr>\n",
       "      <th>3</th>\n",
       "      <td>0.00</td>\n",
       "      <td>2016-01-03</td>\n",
       "      <td>1</td>\n",
       "      <td>3</td>\n",
       "      <td>2016</td>\n",
       "      <td>Montgomery</td>\n",
       "      <td>MGM</td>\n",
       "      <td>Montgomery, AL</td>\n",
       "      <td>Alabama</td>\n",
       "      <td>45</td>\n",
       "      <td>52</td>\n",
       "      <td>38</td>\n",
       "      <td>32</td>\n",
       "      <td>6.86</td>\n",
       "    </tr>\n",
       "    <tr>\n",
       "      <th>4</th>\n",
       "      <td>0.01</td>\n",
       "      <td>2016-01-03</td>\n",
       "      <td>1</td>\n",
       "      <td>3</td>\n",
       "      <td>2016</td>\n",
       "      <td>Anchorage</td>\n",
       "      <td>ANC</td>\n",
       "      <td>Anchorage, AK</td>\n",
       "      <td>Alaska</td>\n",
       "      <td>34</td>\n",
       "      <td>38</td>\n",
       "      <td>29</td>\n",
       "      <td>19</td>\n",
       "      <td>7.80</td>\n",
       "    </tr>\n",
       "  </tbody>\n",
       "</table>\n",
       "</div>"
      ],
      "text/plain": [
       "   Data.Precipitation   Date.Full  Date.Month  Date.Week of  Date.Year  \\\n",
       "0                0.00  2016-01-03           1             3       2016   \n",
       "1                0.00  2016-01-03           1             3       2016   \n",
       "2                0.16  2016-01-03           1             3       2016   \n",
       "3                0.00  2016-01-03           1             3       2016   \n",
       "4                0.01  2016-01-03           1             3       2016   \n",
       "\n",
       "  Station.City Station.Code Station.Location Station.State  \\\n",
       "0   Birmingham          BHM   Birmingham, AL       Alabama   \n",
       "1   Huntsville          HSV   Huntsville, AL       Alabama   \n",
       "2       Mobile          MOB       Mobile, AL       Alabama   \n",
       "3   Montgomery          MGM   Montgomery, AL       Alabama   \n",
       "4    Anchorage          ANC    Anchorage, AK        Alaska   \n",
       "\n",
       "   Data.Temperature.Avg Temp  Data.Temperature.Max Temp  \\\n",
       "0                         39                         46   \n",
       "1                         39                         47   \n",
       "2                         46                         51   \n",
       "3                         45                         52   \n",
       "4                         34                         38   \n",
       "\n",
       "   Data.Temperature.Min Temp  Data.Wind.Direction  Data.Wind.Speed  \n",
       "0                         32                   33             4.33  \n",
       "1                         31                   32             3.86  \n",
       "2                         41                   35             9.73  \n",
       "3                         38                   32             6.86  \n",
       "4                         29                   19             7.80  "
      ]
     },
     "execution_count": 4,
     "metadata": {},
     "output_type": "execute_result"
    }
   ],
   "source": [
    "df_weather.head()"
   ]
  },
  {
   "cell_type": "code",
   "execution_count": 6,
   "id": "809484a2",
   "metadata": {},
   "outputs": [
    {
     "name": "stdout",
     "output_type": "stream",
     "text": [
      "[2016 2017]\n"
     ]
    }
   ],
   "source": [
    "unique_years = df_weather['Date.Year'].unique()\n",
    "\n",
    "# Imprimir los valores únicos\n",
    "print(unique_years)"
   ]
  },
  {
   "cell_type": "code",
   "execution_count": 8,
   "id": "5d4c9d05",
   "metadata": {},
   "outputs": [
    {
     "name": "stderr",
     "output_type": "stream",
     "text": [
      "C:\\Users\\joseg\\AppData\\Local\\Temp\\ipykernel_17212\\1443197202.py:1: DtypeWarning: Columns (2) have mixed types. Specify dtype option on import or set low_memory=False.\n",
      "  df_weather2 = pd.read_csv(\"city_temperature.csv\")\n"
     ]
    }
   ],
   "source": [
    "df_weather2 = pd.read_csv(\"city_temperature.csv\")"
   ]
  },
  {
   "cell_type": "code",
   "execution_count": 12,
   "id": "d730c555",
   "metadata": {},
   "outputs": [
    {
     "data": {
      "text/plain": [
       "(2906327, 8)"
      ]
     },
     "execution_count": 12,
     "metadata": {},
     "output_type": "execute_result"
    }
   ],
   "source": [
    "df_weather2.shape"
   ]
  },
  {
   "cell_type": "code",
   "execution_count": 13,
   "id": "ebd9f1d6",
   "metadata": {},
   "outputs": [
    {
     "data": {
      "text/html": [
       "<div>\n",
       "<style scoped>\n",
       "    .dataframe tbody tr th:only-of-type {\n",
       "        vertical-align: middle;\n",
       "    }\n",
       "\n",
       "    .dataframe tbody tr th {\n",
       "        vertical-align: top;\n",
       "    }\n",
       "\n",
       "    .dataframe thead th {\n",
       "        text-align: right;\n",
       "    }\n",
       "</style>\n",
       "<table border=\"1\" class=\"dataframe\">\n",
       "  <thead>\n",
       "    <tr style=\"text-align: right;\">\n",
       "      <th></th>\n",
       "      <th>Region</th>\n",
       "      <th>Country</th>\n",
       "      <th>State</th>\n",
       "      <th>City</th>\n",
       "      <th>Month</th>\n",
       "      <th>Day</th>\n",
       "      <th>Year</th>\n",
       "      <th>AvgTemperature</th>\n",
       "    </tr>\n",
       "  </thead>\n",
       "  <tbody>\n",
       "    <tr>\n",
       "      <th>0</th>\n",
       "      <td>Africa</td>\n",
       "      <td>Algeria</td>\n",
       "      <td>NaN</td>\n",
       "      <td>Algiers</td>\n",
       "      <td>1</td>\n",
       "      <td>1</td>\n",
       "      <td>1995</td>\n",
       "      <td>64.2</td>\n",
       "    </tr>\n",
       "    <tr>\n",
       "      <th>1</th>\n",
       "      <td>Africa</td>\n",
       "      <td>Algeria</td>\n",
       "      <td>NaN</td>\n",
       "      <td>Algiers</td>\n",
       "      <td>1</td>\n",
       "      <td>2</td>\n",
       "      <td>1995</td>\n",
       "      <td>49.4</td>\n",
       "    </tr>\n",
       "    <tr>\n",
       "      <th>2</th>\n",
       "      <td>Africa</td>\n",
       "      <td>Algeria</td>\n",
       "      <td>NaN</td>\n",
       "      <td>Algiers</td>\n",
       "      <td>1</td>\n",
       "      <td>3</td>\n",
       "      <td>1995</td>\n",
       "      <td>48.8</td>\n",
       "    </tr>\n",
       "    <tr>\n",
       "      <th>3</th>\n",
       "      <td>Africa</td>\n",
       "      <td>Algeria</td>\n",
       "      <td>NaN</td>\n",
       "      <td>Algiers</td>\n",
       "      <td>1</td>\n",
       "      <td>4</td>\n",
       "      <td>1995</td>\n",
       "      <td>46.4</td>\n",
       "    </tr>\n",
       "    <tr>\n",
       "      <th>4</th>\n",
       "      <td>Africa</td>\n",
       "      <td>Algeria</td>\n",
       "      <td>NaN</td>\n",
       "      <td>Algiers</td>\n",
       "      <td>1</td>\n",
       "      <td>5</td>\n",
       "      <td>1995</td>\n",
       "      <td>47.9</td>\n",
       "    </tr>\n",
       "  </tbody>\n",
       "</table>\n",
       "</div>"
      ],
      "text/plain": [
       "   Region  Country State     City  Month  Day  Year  AvgTemperature\n",
       "0  Africa  Algeria   NaN  Algiers      1    1  1995            64.2\n",
       "1  Africa  Algeria   NaN  Algiers      1    2  1995            49.4\n",
       "2  Africa  Algeria   NaN  Algiers      1    3  1995            48.8\n",
       "3  Africa  Algeria   NaN  Algiers      1    4  1995            46.4\n",
       "4  Africa  Algeria   NaN  Algiers      1    5  1995            47.9"
      ]
     },
     "execution_count": 13,
     "metadata": {},
     "output_type": "execute_result"
    }
   ],
   "source": [
    "df_weather2.head()"
   ]
  },
  {
   "cell_type": "code",
   "execution_count": 14,
   "id": "1b3d6872",
   "metadata": {},
   "outputs": [
    {
     "name": "stdout",
     "output_type": "stream",
     "text": [
      "[1995 1996 1997 1998 1999 2000 2001 2002 2003 2004 2005 2006 2007 2008\n",
      " 2009 2010 2011 2012 2013 2014 2015 2016 2017 2018 2019 2020  201  200]\n"
     ]
    }
   ],
   "source": [
    "uni_years = df_weather2['Year'].unique()\n",
    "\n",
    "# Imprimir los valores únicos\n",
    "print(uni_years)"
   ]
  },
  {
   "cell_type": "code",
   "execution_count": 16,
   "id": "6ae2165f",
   "metadata": {},
   "outputs": [
    {
     "name": "stdout",
     "output_type": "stream",
     "text": [
      "['Algiers' 'Bujumbura' 'Cotonou' 'Bangui' 'Brazzaville' 'Cairo'\n",
      " 'Addis Ababa' 'Libreville' 'Banjul' 'Conakry' 'Bissau' 'Abidjan'\n",
      " 'Nairobi' 'Rabat' 'Antananarivo' 'Nouakchott' 'Lilongwe' 'Maputo'\n",
      " 'Windhoek' 'Niamey' 'Lagos' 'Dakar' 'Freetown' 'Capetown' 'Lome' 'Tunis'\n",
      " 'Dar Es Salaam' 'Kampala' 'Lusaka' 'Dhaka' 'Beijing' 'Chengdu'\n",
      " 'Guangzhou' 'Shanghai' 'Shenyang' 'Hong Kong' 'Bombay (Mumbai)'\n",
      " 'Calcutta' 'Chennai (Madras)' 'Delhi' 'Jakarta' 'Osaka' 'Sapporo' 'Tokyo'\n",
      " 'Almaty' 'Bishkek' 'Vientiane' 'Kuala Lumpur' 'Ulan-bator' 'Rangoon'\n",
      " 'Katmandu' 'Pyongyang' 'Islamabad' 'Karachi' 'Manila' 'Singapore' 'Seoul'\n",
      " 'Colombo' 'Taipei' 'Dusanbe' 'Bangkok' 'Ashabad' 'Tashkent' 'Hanoi'\n",
      " 'Brisbane' 'Canberra' 'Melbourne' 'Perth' 'Sydney' 'Auckland' 'Tirana'\n",
      " 'Vienna' 'Minsk' 'Brussels' 'Sofia' 'Zagreb' 'Nicosia' 'Prague'\n",
      " 'Copenhagen' 'Helsinki' 'Paris' 'Bordeaux' 'Bonn' 'Frankfurt' 'Hamburg'\n",
      " 'Munich' 'Tbilisi' 'Athens' 'Budapest' 'Reykjavik' 'Dublin' 'Milan'\n",
      " 'Rome' 'Riga' 'Skopje' 'Amsterdam' 'Oslo' 'Warsaw' 'Lisbon' 'Bucharest'\n",
      " 'Moscow' 'Yerevan' 'Pristina' 'Bratislava' 'Barcelona' 'Bilbao' 'Madrid'\n",
      " 'Stockholm' 'Bern' 'Geneva' 'Zurich' 'Kiev' 'Belfast' 'London' 'Belgrade'\n",
      " 'Manama' 'Tel Aviv' 'Amman' 'Kuwait' 'Beirut' 'Muscat' 'Doha' 'Dhahran'\n",
      " 'Riyadh' 'Damascus' 'Ankara' 'Istanbul' 'Abu Dhabi' 'Dubai' 'Calgary'\n",
      " 'Edmonton' 'Halifax' 'Montreal' 'Ottawa' 'Quebec' 'Regina' 'Toronto'\n",
      " 'Vancouver' 'Winnipeg' 'Guadalajara' 'Mexico City' 'Monterrey'\n",
      " 'Buenos Aires' 'Nassau' 'Hamilton' 'Belize City' 'La Paz' 'Bridgetown'\n",
      " 'Brasilia' 'Rio de Janeiro' 'Sao Paulo' 'Bogota' 'San Jose' 'Havana'\n",
      " 'Santo Domingo' 'Guayaquil' 'Quito' 'Guatemala City' 'Georgetown'\n",
      " 'Port au Prince' 'Tegucigalpa' 'Managua' 'Panama City' 'Lima'\n",
      " 'Paramaribo' 'Montvideo' 'Caracas' 'Birmingham' 'Huntsville' 'Mobile'\n",
      " 'Montgomery' 'Anchorage' 'Fairbanks' 'Juneau' 'Flagstaff' 'Phoenix'\n",
      " 'Tucson' 'Yuma' 'Fort Smith' 'Little Rock' 'Fresno' 'Los Angeles'\n",
      " 'Sacramento' 'San Diego' 'San Francisco' 'Colorado Springs' 'Denver'\n",
      " 'Grand Junction' 'Pueblo' 'Bridgeport' 'Hartford Springfield'\n",
      " 'Wilmington' 'Washington' 'Washington DC' 'Daytona Beach' 'Jacksonville'\n",
      " 'Miami Beach' 'Orlando' 'Tallahassee' 'Tampa St. Petersburg'\n",
      " 'West Palm Beach' 'Atlanta' 'Columbus' 'Macon' 'Savannah' 'Honolulu'\n",
      " 'Boise' 'Pocatello' 'Chicago' 'Peoria' 'Rockford' 'Springfield'\n",
      " 'Evansville' 'Fort Wayne' 'Indianapolis' 'South Bend' 'Des Moines'\n",
      " 'Sioux City' 'Goodland' 'Topeka' 'Wichita' 'Lexington' 'Louisville'\n",
      " 'Paducah' 'Baton Rouge' 'Lake Charles' 'New Orleans' 'Shreveport'\n",
      " 'Caribou' 'Portland' 'Baltimore' 'Boston' 'Detroit' 'Flint'\n",
      " 'Grand Rapids' 'Lansing' 'Sault Ste Marie' 'Duluth'\n",
      " 'Minneapolis St. Paul' 'Jackson' 'Tupelo' 'Kansas City' 'St Louis'\n",
      " 'Billings' 'Great Falls' 'Helena' 'Lincoln' 'North Platte' 'Omaha' 'Reno'\n",
      " 'Las Vegas' 'Concord' 'Atlantic City' 'Newark' 'Albuquerque' 'Albany'\n",
      " 'Buffalo' 'New York City' 'Rochester' 'Syracuse' 'Asheville' 'Charlotte'\n",
      " 'Greensboro' 'Raleigh Durham' 'Bismarck' 'Fargo' 'Akron Canton'\n",
      " 'Cincinnati' 'Cleveland' 'Dayton' 'Toledo' 'Youngstown' 'Oklahoma City'\n",
      " 'Tulsa' 'Eugene' 'Medford' 'Salem' 'Allentown' 'Erie' 'Harrisburg'\n",
      " 'Philadelphia' 'Pittsburgh' 'Wilkes Barre' 'Rhode Island' 'Charleston'\n",
      " 'Columbia' 'Rapid City' 'Sioux Falls' 'Chattanooga' 'Knoxville' 'Memphis'\n",
      " 'Nashville' 'Abilene' 'Amarillo' 'Austin' 'Brownsville' 'Corpus Christi'\n",
      " 'Dallas Ft Worth' 'El Paso' 'Houston' 'Lubbock' 'Midland Odessa'\n",
      " 'San Angelo' 'San Antonio' 'Waco' 'Wichita Falls' 'Salt Lake City'\n",
      " 'Burlington' 'Norfolk' 'Richmond' 'Roanoke' 'Seattle' 'Spokane' 'Yakima'\n",
      " 'Elkins' 'Green Bay' 'Madison' 'Milwaukee' 'Casper' 'Cheyenne'\n",
      " 'San Juan Puerto Rico']\n"
     ]
    }
   ],
   "source": [
    "uni_city = df_weather2['City'].unique()\n",
    "\n",
    "# Imprimir los valores únicos\n",
    "print(uni_city)"
   ]
  },
  {
   "cell_type": "code",
   "execution_count": 18,
   "id": "2323521b",
   "metadata": {},
   "outputs": [
    {
     "name": "stdout",
     "output_type": "stream",
     "text": [
      "        Region Country State    City  Month  Day  Year  AvgTemperature\n",
      "921973  Europe   Spain   NaN  Madrid      1    1  1995            45.9\n",
      "921974  Europe   Spain   NaN  Madrid      1    2  1995            40.0\n",
      "921975  Europe   Spain   NaN  Madrid      1    3  1995            34.1\n",
      "921976  Europe   Spain   NaN  Madrid      1    4  1995            37.0\n",
      "921977  Europe   Spain   NaN  Madrid      1    5  1995            43.1\n",
      "...        ...     ...   ...     ...    ...  ...   ...             ...\n",
      "931234  Europe   Spain   NaN  Madrid      5    9  2020            67.0\n",
      "931235  Europe   Spain   NaN  Madrid      5   10  2020            60.1\n",
      "931236  Europe   Spain   NaN  Madrid      5   11  2020            60.6\n",
      "931237  Europe   Spain   NaN  Madrid      5   12  2020            55.3\n",
      "931238  Europe   Spain   NaN  Madrid      5   13  2020            51.7\n",
      "\n",
      "[9266 rows x 8 columns]\n"
     ]
    }
   ],
   "source": [
    "ciudades_principales = ['París', 'Madrid', 'Nueva York', 'Pekín', 'Roma', 'Estambul', 'Ciudad de México', 'Berlín', 'Londres']\n",
    "\n",
    "# Filtrar el DataFrame df_weather2 utilizando la columna 'City'\n",
    "df_filtrado = df_weather2[df_weather2['City'].isin(ciudades_principales)]\n",
    "\n",
    "# Mostrar el DataFrame filtrado\n",
    "print(df_filtrado)"
   ]
  },
  {
   "cell_type": "code",
   "execution_count": 20,
   "id": "ffcc3d2e",
   "metadata": {},
   "outputs": [
    {
     "data": {
      "text/html": [
       "<div>\n",
       "<style scoped>\n",
       "    .dataframe tbody tr th:only-of-type {\n",
       "        vertical-align: middle;\n",
       "    }\n",
       "\n",
       "    .dataframe tbody tr th {\n",
       "        vertical-align: top;\n",
       "    }\n",
       "\n",
       "    .dataframe thead th {\n",
       "        text-align: right;\n",
       "    }\n",
       "</style>\n",
       "<table border=\"1\" class=\"dataframe\">\n",
       "  <thead>\n",
       "    <tr style=\"text-align: right;\">\n",
       "      <th></th>\n",
       "      <th>Region</th>\n",
       "      <th>Country</th>\n",
       "      <th>State</th>\n",
       "      <th>City</th>\n",
       "      <th>Month</th>\n",
       "      <th>Day</th>\n",
       "      <th>Year</th>\n",
       "      <th>AvgTemperature</th>\n",
       "    </tr>\n",
       "  </thead>\n",
       "  <tbody>\n",
       "    <tr>\n",
       "      <th>921973</th>\n",
       "      <td>Europe</td>\n",
       "      <td>Spain</td>\n",
       "      <td>NaN</td>\n",
       "      <td>Madrid</td>\n",
       "      <td>1</td>\n",
       "      <td>1</td>\n",
       "      <td>1995</td>\n",
       "      <td>45.9</td>\n",
       "    </tr>\n",
       "    <tr>\n",
       "      <th>921974</th>\n",
       "      <td>Europe</td>\n",
       "      <td>Spain</td>\n",
       "      <td>NaN</td>\n",
       "      <td>Madrid</td>\n",
       "      <td>1</td>\n",
       "      <td>2</td>\n",
       "      <td>1995</td>\n",
       "      <td>40.0</td>\n",
       "    </tr>\n",
       "    <tr>\n",
       "      <th>921975</th>\n",
       "      <td>Europe</td>\n",
       "      <td>Spain</td>\n",
       "      <td>NaN</td>\n",
       "      <td>Madrid</td>\n",
       "      <td>1</td>\n",
       "      <td>3</td>\n",
       "      <td>1995</td>\n",
       "      <td>34.1</td>\n",
       "    </tr>\n",
       "    <tr>\n",
       "      <th>921976</th>\n",
       "      <td>Europe</td>\n",
       "      <td>Spain</td>\n",
       "      <td>NaN</td>\n",
       "      <td>Madrid</td>\n",
       "      <td>1</td>\n",
       "      <td>4</td>\n",
       "      <td>1995</td>\n",
       "      <td>37.0</td>\n",
       "    </tr>\n",
       "    <tr>\n",
       "      <th>921977</th>\n",
       "      <td>Europe</td>\n",
       "      <td>Spain</td>\n",
       "      <td>NaN</td>\n",
       "      <td>Madrid</td>\n",
       "      <td>1</td>\n",
       "      <td>5</td>\n",
       "      <td>1995</td>\n",
       "      <td>43.1</td>\n",
       "    </tr>\n",
       "  </tbody>\n",
       "</table>\n",
       "</div>"
      ],
      "text/plain": [
       "        Region Country State    City  Month  Day  Year  AvgTemperature\n",
       "921973  Europe   Spain   NaN  Madrid      1    1  1995            45.9\n",
       "921974  Europe   Spain   NaN  Madrid      1    2  1995            40.0\n",
       "921975  Europe   Spain   NaN  Madrid      1    3  1995            34.1\n",
       "921976  Europe   Spain   NaN  Madrid      1    4  1995            37.0\n",
       "921977  Europe   Spain   NaN  Madrid      1    5  1995            43.1"
      ]
     },
     "execution_count": 20,
     "metadata": {},
     "output_type": "execute_result"
    }
   ],
   "source": [
    "df_filtrado.head()"
   ]
  },
  {
   "cell_type": "code",
   "execution_count": null,
   "id": "e77fd50d",
   "metadata": {},
   "outputs": [],
   "source": []
  }
 ],
 "metadata": {
  "kernelspec": {
   "display_name": "Python 3 (ipykernel)",
   "language": "python",
   "name": "python3"
  },
  "language_info": {
   "codemirror_mode": {
    "name": "ipython",
    "version": 3
   },
   "file_extension": ".py",
   "mimetype": "text/x-python",
   "name": "python",
   "nbconvert_exporter": "python",
   "pygments_lexer": "ipython3",
   "version": "3.11.4"
  }
 },
 "nbformat": 4,
 "nbformat_minor": 5
}
